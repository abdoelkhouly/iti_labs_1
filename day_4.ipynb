{
  "nbformat": 4,
  "nbformat_minor": 0,
  "metadata": {
    "colab": {
      "provenance": [],
      "authorship_tag": "ABX9TyMdYOig7pnBJ+zNrQinmj81",
      "include_colab_link": true
    },
    "kernelspec": {
      "name": "python3",
      "display_name": "Python 3"
    },
    "language_info": {
      "name": "python"
    }
  },
  "cells": [
    {
      "cell_type": "markdown",
      "metadata": {
        "id": "view-in-github",
        "colab_type": "text"
      },
      "source": [
        "<a href=\"https://colab.research.google.com/github/abdoelkhouly/iti_labs_1/blob/main/day_4.ipynb\" target=\"_parent\"><img src=\"https://colab.research.google.com/assets/colab-badge.svg\" alt=\"Open In Colab\"/></a>"
      ]
    },
    {
      "cell_type": "code",
      "execution_count": 10,
      "metadata": {
        "id": "n3AX-sPzWgZA",
        "colab": {
          "base_uri": "https://localhost:8080/"
        },
        "outputId": "bcd34f22-636b-46d0-9d9c-fa2dc72075f2"
      },
      "outputs": [
        {
          "output_type": "stream",
          "name": "stdout",
          "text": [
            "Manual Mean: 20.5\n",
            "NumPy Mean: 20.5\n"
          ]
        }
      ],
      "source": [
        "                         #عبدالرحمن راضي محمود\n",
        "\n",
        "ages = [18, 21, 20, 19, 22, 23, 20, 21, 22, 19]\n",
        "\n",
        "manual_mean = sum(ages) / len(ages)\n",
        "print(\"Manual Mean:\", manual_mean)\n",
        "\n",
        "import numpy as np\n",
        "print(\"NumPy Mean:\", np.mean(ages))\n"
      ]
    },
    {
      "cell_type": "code",
      "source": [
        "import random, numpy as np\n",
        "\n",
        "data = [random.randint(10, 50) for _ in range(15)]\n",
        "sorted_data = sorted(data)\n",
        "n = len(sorted_data)\n",
        "median_manual = sorted_data[n//2] if n % 2 else (sorted_data[n//2 - 1] + sorted_data[n//2]) / 2\n",
        "\n",
        "print(\"Data:\", data)\n",
        "print(\"Manual Median:\", median_manual)\n",
        "print(\"NumPy Median:\", np.median(data))\n"
      ],
      "metadata": {
        "colab": {
          "base_uri": "https://localhost:8080/"
        },
        "id": "UXoYVDWVN-zs",
        "outputId": "c8bf29c0-20d4-4df9-fa8b-c857377b56f8"
      },
      "execution_count": 2,
      "outputs": [
        {
          "output_type": "stream",
          "name": "stdout",
          "text": [
            "Data: [34, 30, 16, 46, 38, 12, 15, 37, 10, 49, 46, 21, 19, 31, 32]\n",
            "Manual Median: 31\n",
            "NumPy Median: 31.0\n"
          ]
        }
      ]
    },
    {
      "cell_type": "code",
      "source": [
        "import numpy as np\n",
        "\n",
        "min_v, max_v = min(data), max(data)\n",
        "print(\"Manual -> Min:\", min_v, \"Max:\", max_v, \"Range:\", max_v - min_v)\n",
        "\n",
        "print(\"NumPy  -> Min:\", np.min(data), \"Max:\", np.max(data), \"Range:\", np.max(data) - np.min(data))\n"
      ],
      "metadata": {
        "colab": {
          "base_uri": "https://localhost:8080/"
        },
        "id": "_vGy_FvgN-9m",
        "outputId": "da8b5a15-0059-4ef1-f15f-6cf9c4ba7f75"
      },
      "execution_count": 3,
      "outputs": [
        {
          "output_type": "stream",
          "name": "stdout",
          "text": [
            "Manual -> Min: 10 Max: 49 Range: 39\n",
            "NumPy  -> Min: 10 Max: 49 Range: 39\n"
          ]
        }
      ]
    },
    {
      "cell_type": "code",
      "source": [
        "import numpy as np\n",
        "\n",
        "data2 = [5, 7, 3, 7, 9, 10, 15, 7]\n",
        "m = sum(data2) / len(data2)\n",
        "var_manual = sum((x - m) ** 2 for x in data2) / len(data2)\n",
        "std_manual = var_manual ** 0.5\n",
        "\n",
        "print(\"Manual Variance:\", var_manual)\n",
        "print(\"Manual Std:\", std_manual)\n",
        "print(\"NumPy Variance:\", np.var(data2))\n",
        "print(\"NumPy Std:\", np.std(data2))\n"
      ],
      "metadata": {
        "colab": {
          "base_uri": "https://localhost:8080/"
        },
        "id": "M4EvsMiHOC8r",
        "outputId": "20ad6935-a326-420e-af07-33cc665d2b24"
      },
      "execution_count": 4,
      "outputs": [
        {
          "output_type": "stream",
          "name": "stdout",
          "text": [
            "Manual Variance: 11.359375\n",
            "Manual Std: 3.370367190678191\n",
            "NumPy Variance: 11.359375\n",
            "NumPy Std: 3.370367190678191\n"
          ]
        }
      ]
    },
    {
      "cell_type": "code",
      "source": [
        "import numpy as np\n",
        "\n",
        "dataset = [7, 8, 5, 13, 20, 15, 14, 10, 18, 16]\n",
        "q1, q2, q3 = np.percentile(dataset, [25, 50, 75])\n",
        "iqr = q3 - q1\n",
        "print(\"Q1:\", q1, \"Q2/Median:\", q2, \"Q3:\", q3, \"IQR:\", iqr)\n"
      ],
      "metadata": {
        "colab": {
          "base_uri": "https://localhost:8080/"
        },
        "id": "ANk_6eUSOEm3",
        "outputId": "167a5709-19c7-4121-c452-09f1c137ec69"
      },
      "execution_count": 5,
      "outputs": [
        {
          "output_type": "stream",
          "name": "stdout",
          "text": [
            "Q1: 8.5 Q2/Median: 13.5 Q3: 15.75 IQR: 7.25\n"
          ]
        }
      ]
    },
    {
      "cell_type": "code",
      "source": [
        "def zscore(lst):\n",
        "    mu = sum(lst) / len(lst)\n",
        "    sigma = (sum((x - mu) ** 2 for x in lst) / len(lst)) ** 0.5\n",
        "    return [(x - mu) / sigma for x in lst]\n",
        "\n",
        "lst = [10, 12, 14, 16, 18]\n",
        "print(\"Original:\", lst)\n",
        "print(\"Z-scores:\", zscore(lst))\n"
      ],
      "metadata": {
        "colab": {
          "base_uri": "https://localhost:8080/"
        },
        "id": "_LqEbmHdOGvM",
        "outputId": "04b11933-dd45-4e40-a499-27d642d74d39"
      },
      "execution_count": 6,
      "outputs": [
        {
          "output_type": "stream",
          "name": "stdout",
          "text": [
            "Original: [10, 12, 14, 16, 18]\n",
            "Z-scores: [-1.414213562373095, -0.7071067811865475, 0.0, 0.7071067811865475, 1.414213562373095]\n"
          ]
        }
      ]
    },
    {
      "cell_type": "code",
      "source": [
        "import random, numpy as np\n",
        "\n",
        "series = [random.randint(1, 100) for _ in range(20)]\n",
        "ma3_manual = [(series[i] + series[i+1] + series[i+2]) / 3 for i in range(len(series) - 2)]\n",
        "ma3_numpy = np.convolve(series, np.ones(3)/3, mode='valid')\n",
        "\n",
        "print(\"Series:\", series)\n",
        "print(\"MA(3) manual:\", ma3_manual)\n",
        "print(\"MA(3) NumPy :\", ma3_numpy.tolist())\n"
      ],
      "metadata": {
        "colab": {
          "base_uri": "https://localhost:8080/"
        },
        "id": "orw0-ywWOKJT",
        "outputId": "90894905-9edc-4499-e880-60d25a83aa3e"
      },
      "execution_count": 7,
      "outputs": [
        {
          "output_type": "stream",
          "name": "stdout",
          "text": [
            "Series: [52, 20, 67, 70, 39, 11, 83, 25, 54, 90, 77, 25, 11, 11, 9, 88, 74, 93, 93, 46]\n",
            "MA(3) manual: [46.333333333333336, 52.333333333333336, 58.666666666666664, 40.0, 44.333333333333336, 39.666666666666664, 54.0, 56.333333333333336, 73.66666666666667, 64.0, 37.666666666666664, 15.666666666666666, 10.333333333333334, 36.0, 57.0, 85.0, 86.66666666666667, 77.33333333333333]\n",
            "MA(3) NumPy : [46.33333333333333, 52.33333333333333, 58.666666666666664, 39.99999999999999, 44.33333333333333, 39.666666666666664, 54.0, 56.33333333333333, 73.66666666666666, 64.0, 37.666666666666664, 15.666666666666664, 10.333333333333332, 36.0, 56.99999999999999, 85.0, 86.66666666666666, 77.33333333333333]\n"
          ]
        }
      ]
    },
    {
      "cell_type": "code",
      "source": [
        "import numpy as np\n",
        "\n",
        "nums = list(range(1, 26)) + [300, 400]\n",
        "iqr = q3 - q1\n",
        "low, high = q1 - 1.5*iqr, q3 + 1.5*iqr\n",
        "outliers = [x for x in nums if x < low or x > high]\n",
        "\n",
        "print(\"Q1:\", q1, \"Q3:\", q3, \"IQR:\", iqr)\n",
        "print(\"Lower bound:\", low, \"Upper bound:\", high)\n",
        "print(\"Outliers:\", outliers)\n"
      ],
      "metadata": {
        "colab": {
          "base_uri": "https://localhost:8080/"
        },
        "id": "LVCKnKGWOLwP",
        "outputId": "85b8471d-cf79-42c6-f01b-4fffc5e3e5cd"
      },
      "execution_count": 9,
      "outputs": [
        {
          "output_type": "stream",
          "name": "stdout",
          "text": [
            "Q1: 7.5 Q3: 20.5 IQR: 13.0\n",
            "Lower bound: -12.0 Upper bound: 40.0\n",
            "Outliers: [300, 400]\n"
          ]
        }
      ]
    }
  ]
}