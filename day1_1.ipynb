{
  "nbformat": 4,
  "nbformat_minor": 0,
  "metadata": {
    "colab": {
      "provenance": [],
      "authorship_tag": "ABX9TyNn5UV6MpvclwGAk93nXFR7",
      "include_colab_link": true
    },
    "kernelspec": {
      "name": "python3",
      "display_name": "Python 3"
    },
    "language_info": {
      "name": "python"
    }
  },
  "cells": [
    {
      "cell_type": "markdown",
      "metadata": {
        "id": "view-in-github",
        "colab_type": "text"
      },
      "source": [
        "<a href=\"https://colab.research.google.com/github/abdoelkhouly/iti_labs_1/blob/main/day1_1.ipynb\" target=\"_parent\"><img src=\"https://colab.research.google.com/assets/colab-badge.svg\" alt=\"Open In Colab\"/></a>"
      ]
    },
    {
      "cell_type": "code",
      "execution_count": 5,
      "metadata": {
        "colab": {
          "base_uri": "https://localhost:8080/"
        },
        "id": "QT_2-BwkelsH",
        "outputId": "fbfa764b-00c8-4267-b1f6-033b887a8773"
      },
      "outputs": [
        {
          "output_type": "stream",
          "name": "stdout",
          "text": [
            "Question 1 (integers):\n",
            "a) num1 + num2 = 7   # 3 + 4 = 7\n",
            "b) num3 - num1 = 2   # 5 - 3 = 2\n",
            "c) num1 * num2 + num3 = 17   # (3*4) + 5 = 17\n",
            "d) num1 * (num2 + num3) = 27   # 3*(4+5) = 27\n",
            "e) num3 / num1 = 1.6666666666666667   # 5/3 ≈ 1.6666666667\n",
            "f) num3 // num1 = 1   # integer division → 5//3 = 1\n",
            "g) num3 % num1 = 2   # remainder of 5/3 = 2\n",
            "\n",
            "---\n",
            "\n",
            "Question 1 (floats):\n",
            "a) num1 + num2 = 7.0\n",
            "b) num3 - num1 = 2.0\n",
            "c) num1 * num2 + num3 = 17.0\n",
            "d) num1 * (num2 + num3) = 27.0\n",
            "e) num3 / num1 = 1.6666666666666667\n",
            "f) num3 // num1 = 1.0\n",
            "g) num3 % num1 = 2.0\n",
            "\n",
            "======\n",
            "\n"
          ]
        }
      ],
      "source": [
        "# Question 1 - part 1: integers\n",
        "num1 = 3\n",
        "num2 = 4\n",
        "num3 = 5\n",
        "\n",
        "print(\"Question 1 (integers):\")\n",
        "\n",
        "res_a = num1 + num2\n",
        "print(\"a) num1 + num2 =\", res_a, \"  # 3 + 4 = 7\")\n",
        "\n",
        "res_b = num3 - num1\n",
        "print(\"b) num3 - num1 =\", res_b, \"  # 5 - 3 = 2\")\n",
        "\n",
        "res_c = num1 * num2 + num3\n",
        "print(\"c) num1 * num2 + num3 =\", res_c, \"  # (3*4) + 5 = 17\")\n",
        "\n",
        "res_d = num1 * (num2 + num3)\n",
        "print(\"d) num1 * (num2 + num3) =\", res_d, \"  # 3*(4+5) = 27\")\n",
        "\n",
        "res_e = num3 / num1\n",
        "print(\"e) num3 / num1 =\", res_e, \"  # 5/3 ≈ 1.6666666667\")\n",
        "\n",
        "res_f = num3 // num1\n",
        "print(\"f) num3 // num1 =\", res_f, \"  # integer division → 5//3 = 1\")\n",
        "\n",
        "res_g = num3 % num1\n",
        "print(\"g) num3 % num1 =\", res_g, \"  # remainder of 5/3 = 2\")\n",
        "\n",
        "print(\"\\n---\\n\")\n",
        "\n",
        "num1 = 3.0\n",
        "num2 = 4.0\n",
        "num3 = 5.0\n",
        "\n",
        "print(\"Question 1 (floats):\")\n",
        "print(\"a) num1 + num2 =\", num1 + num2)\n",
        "print(\"b) num3 - num1 =\", num3 - num1)\n",
        "print(\"c) num1 * num2 + num3 =\", num1 * num2 + num3)\n",
        "print(\"d) num1 * (num2 + num3) =\", num1 * (num2 + num3))\n",
        "print(\"e) num3 / num1 =\", num3 / num1)\n",
        "print(\"f) num3 // num1 =\", num3 // num1)\n",
        "print(\"g) num3 % num1 =\", num3 % num1)\n",
        "\n",
        "print(\"\\n======\\n\")\n"
      ]
    },
    {
      "cell_type": "code",
      "source": [
        "\n",
        "# Question 2\n",
        "x, y, z, g = 1, 2, 3, 4\n",
        "print(\"Question 2:\")\n",
        "\n",
        "res2_a = x + y * z / g\n",
        "print(\"a) x + y*z/g =\", res2_a, \"  # 1 + (2*3)/4 = 1 + 6/4 = 2.5\")\n",
        "\n",
        "res2_b = y ** z\n",
        "print(\"b) y ** z =\", res2_b, \"  # 2**3 = 8\")\n"
      ],
      "metadata": {
        "colab": {
          "base_uri": "https://localhost:8080/"
        },
        "id": "qF7uzGJCpwPY",
        "outputId": "6c7e0f36-c0a8-4f7c-aa92-87e9db9c221f"
      },
      "execution_count": 6,
      "outputs": [
        {
          "output_type": "stream",
          "name": "stdout",
          "text": [
            "Question 2:\n",
            "a) x + y*z/g = 2.5   # 1 + (2*3)/4 = 1 + 6/4 = 2.5\n",
            "b) y ** z = 8   # 2**3 = 8\n"
          ]
        }
      ]
    },
    {
      "cell_type": "code",
      "source": [
        "# Question 3\n",
        "str_a = \"Python\"\n",
        "str_b = \"is a\"\n",
        "str_c = \"times fun language\"\n",
        "num = 1000\n",
        "\n",
        "print(\"Question 3:\")\n",
        "\n",
        "\n",
        "str_ab = str_a + \" \" + str_b + \" \" + str(num) + \" \" + str_c\n",
        "print(\"a) Concatenation result:\", str_ab)\n",
        "\n",
        "\n",
        "str_a10 = str_a * 10\n",
        "print(\"b) str_a repeated 10 times:\", str_a10)\n"
      ],
      "metadata": {
        "colab": {
          "base_uri": "https://localhost:8080/"
        },
        "id": "G77SP9HzpwS9",
        "outputId": "6a7746e5-cf94-489d-f81c-1a1b3727d0cc"
      },
      "execution_count": 7,
      "outputs": [
        {
          "output_type": "stream",
          "name": "stdout",
          "text": [
            "Question 3:\n",
            "a) Concatenation result: Python is a 1000 times fun language\n",
            "b) str_a repeated 10 times: PythonPythonPythonPythonPythonPythonPythonPythonPythonPython\n"
          ]
        }
      ]
    }
  ]
}